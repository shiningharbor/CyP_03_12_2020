{
  "nbformat": 4,
  "nbformat_minor": 0,
  "metadata": {
    "colab": {
      "name": "CyP_03_12_2020.ipynb",
      "provenance": [],
      "authorship_tag": "ABX9TyN7hryGvjpchjX7m1gMb7go",
      "include_colab_link": true
    },
    "kernelspec": {
      "name": "python3",
      "display_name": "Python 3"
    }
  },
  "cells": [
    {
      "cell_type": "markdown",
      "metadata": {
        "id": "view-in-github",
        "colab_type": "text"
      },
      "source": [
        "<a href=\"https://colab.research.google.com/github/shiningharbor/CyP_03_12_2020/blob/main/CyP_03_12_2020.ipynb\" target=\"_parent\"><img src=\"https://colab.research.google.com/assets/colab-badge.svg\" alt=\"Open In Colab\"/></a>"
      ]
    },
    {
      "cell_type": "code",
      "metadata": {
        "colab": {
          "base_uri": "https://localhost:8080/"
        },
        "id": "HA76MngSnJiU",
        "outputId": "c89a619a-8ddc-4672-94d9-bcf82899b2b1"
      },
      "source": [
        "#Ejemplo 1\n",
        "for i in[1,2,3,4,5]:\n",
        "  print(f\"El elemento: {i} \")"
      ],
      "execution_count": 1,
      "outputs": [
        {
          "output_type": "stream",
          "text": [
            "El elemento: 1 \n",
            "El elemento: 2 \n",
            "El elemento: 3 \n",
            "El elemento: 4 \n",
            "El elemento: 5 \n"
          ],
          "name": "stdout"
        }
      ]
    },
    {
      "cell_type": "code",
      "metadata": {
        "colab": {
          "base_uri": "https://localhost:8080/"
        },
        "id": "bDvHu0-cni4F",
        "outputId": "f83b3b70-adb9-4201-f2aa-037b1ff0cd09"
      },
      "source": [
        "#Ejemplo 1.2\n",
        "coleccion=1, 2, 3, 4, 5\n",
        "for i in coleccion:\n",
        "  print(f\"El elemento: {i} \")"
      ],
      "execution_count": 4,
      "outputs": [
        {
          "output_type": "stream",
          "text": [
            "El elemento: 1 \n",
            "El elemento: 2 \n",
            "El elemento: 3 \n",
            "El elemento: 4 \n",
            "El elemento: 5 \n"
          ],
          "name": "stdout"
        }
      ]
    },
    {
      "cell_type": "code",
      "metadata": {
        "colab": {
          "base_uri": "https://localhost:8080/"
        },
        "id": "VpOvIAajn2zW",
        "outputId": "74bbb977-82be-4e80-c3e9-521ec2c2db22"
      },
      "source": [
        "#ejemplo 2\n",
        "\n",
        "coleccion={\"Mario\":20, \"Mariana\":19, \"Yessica\":14, \"Luis\":18}\n",
        "for i in coleccion:\n",
        "  print(f\"Elemento: {i}\")"
      ],
      "execution_count": 11,
      "outputs": [
        {
          "output_type": "stream",
          "text": [
            "Elemento: Mario\n",
            "Elemento: Mariana\n",
            "Elemento: Yessica\n",
            "Elemento: Luis\n"
          ],
          "name": "stdout"
        }
      ]
    },
    {
      "cell_type": "code",
      "metadata": {
        "colab": {
          "base_uri": "https://localhost:8080/"
        },
        "id": "sMzqG_JKppEt",
        "outputId": "1c0c2711-3b76-4c2f-8dd4-7f46b63b0a5a"
      },
      "source": [
        "#ejemplo 2.1\n",
        "\n",
        "coleccion={\"Mario\":20, \"Mariana\":19, \"Yessica\":14, \"Luis\":18}\n",
        "for i in coleccion:\n",
        "  print(f\"{coleccion [i]}\")"
      ],
      "execution_count": 18,
      "outputs": [
        {
          "output_type": "stream",
          "text": [
            "20\n",
            "19\n",
            "14\n",
            "18\n"
          ],
          "name": "stdout"
        }
      ]
    },
    {
      "cell_type": "code",
      "metadata": {
        "colab": {
          "base_uri": "https://localhost:8080/"
        },
        "id": "NSnLaw7Tp2po",
        "outputId": "44f7e28a-2a14-4a32-99b1-4a628d0ceb03"
      },
      "source": [
        "#ejemplo 2.2\n",
        "\n",
        "coleccion={\"Mario\":20, \"Mariana\":19, \"Yessica\":14, \"Luis\":18}\n",
        "for i in coleccion:\n",
        "  print(f\"{i} -> {coleccion [i] }\")"
      ],
      "execution_count": 24,
      "outputs": [
        {
          "output_type": "stream",
          "text": [
            "Mario -> 20\n",
            "Mariana -> 19\n",
            "Yessica -> 14\n",
            "Luis -> 18\n"
          ],
          "name": "stdout"
        }
      ]
    },
    {
      "cell_type": "code",
      "metadata": {
        "colab": {
          "base_uri": "https://localhost:8080/"
        },
        "id": "CYKaAkUbrvHy",
        "outputId": "15dc2767-3a09-4315-a6d8-0eae9f0c99a4"
      },
      "source": [
        "#ejemplo 2.3\n",
        "\n",
        "coleccion= {\"Mario\":20, \"Mariana\":19, \"Yessica\":14, \"Luis\":18}\n",
        "for clave, valor in coleccion.items():\n",
        "  print(f\"{clave} -> {valor}\")"
      ],
      "execution_count": 68,
      "outputs": [
        {
          "output_type": "stream",
          "text": [
            "Mario -> 20\n",
            "Mariana -> 19\n",
            "Yessica -> 14\n",
            "Luis -> 18\n"
          ],
          "name": "stdout"
        }
      ]
    },
    {
      "cell_type": "code",
      "metadata": {
        "colab": {
          "base_uri": "https://localhost:8080/"
        },
        "id": "tpWq8REls0t2",
        "outputId": "bbe94cce-7826-4228-fd70-e2acc7336f5b"
      },
      "source": [
        "#Ejemplo 3\n",
        "email=False\n",
        "for i in \"ariel@unam.mx\":\n",
        "\n",
        "  if(i==\"@\"):\n",
        "    email = True\n",
        "if email== True:\n",
        "  print(\"El email es correcto\")\n",
        "\n",
        "else:\n",
        "  print(\"El correo no es correcto\")"
      ],
      "execution_count": 38,
      "outputs": [
        {
          "output_type": "stream",
          "text": [
            "El email es correcto\n"
          ],
          "name": "stdout"
        }
      ]
    },
    {
      "cell_type": "code",
      "metadata": {
        "colab": {
          "base_uri": "https://localhost:8080/"
        },
        "id": "OZAgT4Not6QF",
        "outputId": "ef7de5e9-e5cf-43b4-e480-1d9f75e69e72"
      },
      "source": [
        "#Ejemplo 3.1\n",
        "email=False\n",
        "miemail=input(\"Introduse tu correo electronico: \")\n",
        "for i in miemail:\n",
        "\n",
        "  if(i==\"@\"):\n",
        "    email = True\n",
        "if email== True:\n",
        "  print(\"El correo es correcto\")\n",
        "\n",
        "else:\n",
        "  print(\"El correo no es correcto\")"
      ],
      "execution_count": 43,
      "outputs": [
        {
          "output_type": "stream",
          "text": [
            "Introduse tu correo electronico: asd\n",
            "El correo no es correcto\n"
          ],
          "name": "stdout"
        }
      ]
    },
    {
      "cell_type": "code",
      "metadata": {
        "colab": {
          "base_uri": "https://localhost:8080/"
        },
        "id": "DLWbYJ_fvzk_",
        "outputId": "40929d99-8551-4e50-d338-a9da44b2fef2"
      },
      "source": [
        "#for -> range\n",
        "for i in range (5):\n",
        "  print(f\"Hola mundo\")"
      ],
      "execution_count": 48,
      "outputs": [
        {
          "output_type": "stream",
          "text": [
            "Hola mundo\n",
            "Hola mundo\n",
            "Hola mundo\n",
            "Hola mundo\n",
            "Hola mundo\n"
          ],
          "name": "stdout"
        }
      ]
    },
    {
      "cell_type": "code",
      "metadata": {
        "colab": {
          "base_uri": "https://localhost:8080/"
        },
        "id": "cxIBjdLZwUHt",
        "outputId": "82a1cb50-8bd3-4940-962a-b01f70ed0c7d"
      },
      "source": [
        "#for -> range\n",
        "for i in range (5):\n",
        "  print(i)"
      ],
      "execution_count": 47,
      "outputs": [
        {
          "output_type": "stream",
          "text": [
            "0\n",
            "1\n",
            "2\n",
            "3\n",
            "4\n"
          ],
          "name": "stdout"
        }
      ]
    },
    {
      "cell_type": "code",
      "metadata": {
        "colab": {
          "base_uri": "https://localhost:8080/"
        },
        "id": "b24oZ8K1wqxP",
        "outputId": "2dce33b0-d294-48e6-acef-7bc9f53c258e"
      },
      "source": [
        "#for -> range\n",
        "for i in range (10):\n",
        "  print(f\"Valor de la varieble: {i}\")"
      ],
      "execution_count": 55,
      "outputs": [
        {
          "output_type": "stream",
          "text": [
            "Valor de la varieble: 0\n",
            "Valor de la varieble: 1\n",
            "Valor de la varieble: 2\n",
            "Valor de la varieble: 3\n",
            "Valor de la varieble: 4\n",
            "Valor de la varieble: 5\n",
            "Valor de la varieble: 6\n",
            "Valor de la varieble: 7\n",
            "Valor de la varieble: 8\n",
            "Valor de la varieble: 9\n"
          ],
          "name": "stdout"
        }
      ]
    },
    {
      "cell_type": "code",
      "metadata": {
        "id": "TmmGcru8yKxA"
      },
      "source": [
        "#while ejemplos\n",
        "i=1\n",
        "while i <=10:\n",
        "  print(\"Ejercucion\"+ str(i))"
      ],
      "execution_count": null,
      "outputs": []
    },
    {
      "cell_type": "code",
      "metadata": {
        "colab": {
          "base_uri": "https://localhost:8080/"
        },
        "id": "79KSUlnfz3co",
        "outputId": "f2573d67-0c72-40b4-ea35-ec22dfcbf689"
      },
      "source": [
        "i=1\n",
        "while i <=10:\n",
        "  print(\"Ejecucion\"+ str (i))\n",
        "  i=i+1"
      ],
      "execution_count": 64,
      "outputs": [
        {
          "output_type": "stream",
          "text": [
            "Ejecucion1\n",
            "Ejecucion2\n",
            "Ejecucion3\n",
            "Ejecucion4\n",
            "Ejecucion5\n",
            "Ejecucion6\n",
            "Ejecucion7\n",
            "Ejecucion8\n",
            "Ejecucion9\n",
            "Ejecucion10\n"
          ],
          "name": "stdout"
        }
      ]
    },
    {
      "cell_type": "code",
      "metadata": {
        "colab": {
          "base_uri": "https://localhost:8080/"
        },
        "id": "Ysx3_wvX1M5G",
        "outputId": "dbb763a9-6a91-4bed-dbfa-e1931bb33be4"
      },
      "source": [
        "edad=int(input(\"Introduce tu edad: \"))\n",
        "while edad < 0:\n",
        "  print(\"Has introducido un valor negativo, intentalo nuevamente\")\n",
        "  edad=int(input(\"Introduce tu edad: \"))\n",
        "print(\"Gracias por partisipar. Puedes pasar. \")\n",
        "print(\"Edad del aspirante: \"+str(edad))"
      ],
      "execution_count": 65,
      "outputs": [
        {
          "output_type": "stream",
          "text": [
            "Introduce tu edad: -5\n",
            "Has introducido un valor negativo, intentalo nuevamente\n",
            "Introduce tu edad: -4\n",
            "Has introducido un valor negativo, intentalo nuevamente\n",
            "Introduce tu edad: -6\n",
            "Has introducido un valor negativo, intentalo nuevamente\n",
            "Introduce tu edad: 18\n",
            "Gracias por partisipar. Puedes pasar. \n",
            "Edad del aspirante: 18\n"
          ],
          "name": "stdout"
        }
      ]
    },
    {
      "cell_type": "code",
      "metadata": {
        "id": "_2df2KJj2XUc"
      },
      "source": [
        "edad=int(input(\"Introduce tu edad: \"))\n",
        "while edad < 0:\n",
        "  print(\"Has introducido un valor negativo, intentalo nuevamente\")\n",
        "  edad=int(input(\"Introduce tu edad: \"))\n",
        "print(\"Gracias por partisipar. Puedes pasar. \")\n",
        "print(\"Edad del aspirante: \"+str(edad))"
      ],
      "execution_count": null,
      "outputs": []
    }
  ]
}